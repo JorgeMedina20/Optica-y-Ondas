{
 "cells": [
  {
   "cell_type": "code",
   "execution_count": null,
   "id": "3c9e4489",
   "metadata": {},
   "outputs": [],
   "source": [
    "import numpy as np\n",
    "import matplotlib.pyplot as plt\n",
    "\n",
    "def triangular_wave(Omega, num_terms, amplitude, phase, t):\n",
    "    wave = np.zeros_like(t)\n",
    "    for n in range(1, num_terms + 1):\n",
    "        # Solo usamos términos impares (2n-1)\n",
    "        n_term = 2 * n - 1\n",
    "        # Suma de la serie de Fourier\n",
    "        wave += ((-1)**(n+1)) * (amplitude / (n_term**2)) * np.sin(n_term * Omega * t + phase)\n",
    "    wave *= (8 / np.pi**2)  # Normalización de la serie de Fourier\n",
    "    return wave\n",
    "\n",
    "# Parámetros de las ondas triangulares\n",
    "Omega1 = 5 * np.pi  # Frecuencia angular de la primera onda\n",
    "Omega2 = 4 * np.pi  # Frecuencia angular de la segunda onda\n",
    "num_terms = 10  # Número de términos de la serie\n",
    "amplitude1 = 3  # Amplitud de la primera onda\n",
    "amplitude2 = 2  # Amplitud de la segunda onda\n",
    "phase1 = 0  # Fase de la primera onda\n",
    "phase2 = np.pi  # Fase de la segunda onda\n",
    "t = np.linspace(0, 2 * np.pi, 1000)  # Intervalo de tiempo\n",
    "\n",
    "# Generar las ondas triangulares\n",
    "tri_wave1 = triangular_wave(Omega1, num_terms, amplitude1, phase1, t)\n",
    "tri_wave2 = triangular_wave(Omega2, num_terms, amplitude2, phase2, t)\n",
    "\n",
    "# Graficar las ondas triangulares y la figura de Lissajous\n",
    "plt.figure(figsize=(12, 5))\n",
    "\n",
    "# Figura de Lissajous\n",
    "plt.subplot(1, 2, 1)\n",
    "plt.plot(tri_wave1, tri_wave2, label='Figura de Lissajous')\n",
    "plt.title('Figura de Lissajous con Ondas Triangulares')\n",
    "plt.xlabel('Onda Triangular 1')\n",
    "plt.ylabel('Onda Triangular 2')\n",
    "plt.grid(True)\n",
    "#plt.legend()\n",
    "\n",
    "# Ondas triangulares individuales\n",
    "plt.subplot(1, 2, 2)\n",
    "plt.plot(t, tri_wave1, label='Onda Triangular 1')\n",
    "plt.plot(t, tri_wave2, label='Onda Triangular 2', linestyle='--')\n",
    "plt.title('Ondas Triangulares')\n",
    "plt.xlabel('Tiempo')\n",
    "plt.ylabel('Amplitud')\n",
    "plt.grid(True)\n",
    "plt.legend()\n",
    "\n",
    "plt.tight_layout()\n",
    "plt.show()"
   ]
  }
 ],
 "metadata": {
  "kernelspec": {
   "display_name": "Python 3 (ipykernel)",
   "language": "python",
   "name": "python3"
  },
  "language_info": {
   "codemirror_mode": {
    "name": "ipython",
    "version": 3
   },
   "file_extension": ".py",
   "mimetype": "text/x-python",
   "name": "python",
   "nbconvert_exporter": "python",
   "pygments_lexer": "ipython3",
   "version": "3.9.13"
  }
 },
 "nbformat": 4,
 "nbformat_minor": 5
}
