{
 "cells": [
  {
   "cell_type": "code",
   "execution_count": 15,
   "metadata": {},
   "outputs": [],
   "source": [
    "# librerias para leer archivos wav\n",
    "from scipy.io import wavfile\n",
    "samplerate, tone3 = wavfile.read('./Tone1.wav')"
   ]
  },
  {
   "cell_type": "code",
   "execution_count": 18,
   "metadata": {},
   "outputs": [
    {
     "name": "stderr",
     "output_type": "stream",
     "text": [
      "<ipython-input-18-757b4d929a18>:17: ComplexWarning: Casting complex values to real discards the imaginary part\n",
      "  proc[i] = fft_sign[i]*np.exp(-(i-intvl*freq)**2/5000)\n"
     ]
    },
    {
     "data": {
      "text/plain": [
       "(0.0, 2500.0)"
      ]
     },
     "execution_count": 18,
     "metadata": {},
     "output_type": "execute_result"
    },
    {
     "data": {
      "image/png": "[encoded data removed]",
      "text/plain": [
       "<Figure size 432x288 with 1 Axes>"
      ]
     },
     "metadata": {
      "needs_background": "light"
     },
     "output_type": "display_data"
    }
   ],
   "source": [
    "# graficar\n",
    "import matplotlib.pyplot as plt\n",
    "# numpy\n",
    "import numpy as np\n",
    "# calculando los coeficientes de la serie de Fourier\n",
    "# del dominio del tiempo al doinio de frecuencias\n",
    "tone_fft = np.fft.rfft(tone3)\n",
    "intvl = np.shape(tone3)[0]//samplerate\n",
    "# mapa de frecuencias\n",
    "frec = np.linspace(0, np.shape(tone_fft)[0]//intvl, num=np.shape(tone_fft)[0])\n",
    "\n",
    "# filtro Gaussiano - ancho de 50 Hz\n",
    "def filt(fft_sign, freq):\n",
    "    size = np.shape(fft_sign)[0]\n",
    "    proc = np.zeros(size)\n",
    "    for i in range (size):\n",
    "        proc[i] = fft_sign[i]*np.exp(-(i-intvl*freq)**2/5000)\n",
    "    return proc\n",
    "\n",
    "# filtrado en el espacio de frecuencias - 830.609 Hz\n",
    "# amp es un factor de amplificación, solo debe usarse si la señal es muy baja\n",
    "# sino dejela en uno\n",
    "amp = 1.0\n",
    "fft_filt_f1 = amp*filt(tone_fft, 830.609)\n",
    "# de vuelta a la señal original\n",
    "# se necesita invertir la serie de Fourier\n",
    "# del dominio de frecuencias al dominio del tiempo\n",
    "filt_tone = np.fft.irfft(fft_filt_f1)\n",
    "# graficando el modulo de los coeficientes de Fourier\n",
    "plt.plot(frec, np.abs(tone_fft))\n",
    "plt.plot(frec, np.abs(fft_filt_f1))\n",
    "plt.xlim(0,2500)"
   ]
  },
  {
   "cell_type": "code",
   "execution_count": 19,
   "metadata": {},
   "outputs": [],
   "source": [
    "# Escribiendo en archivo wav\n",
    "from scipy.io.wavfile import write\n",
    "write(\"filtro.wav\", samplerate, filt_tone.astype(np.int16))"
   ]
  },
  {
   "cell_type": "code",
   "execution_count": null,
   "metadata": {},
   "outputs": [],
   "source": []
  }
 ],
 "metadata": {
  "kernelspec": {
   "display_name": "Python 3",
   "language": "python",
   "name": "python3"
  },
  "language_info": {
   "codemirror_mode": {
    "name": "ipython",
    "version": 3
   },
   "file_extension": ".py",
   "mimetype": "text/x-python",
   "name": "python",
   "nbconvert_exporter": "python",
   "pygments_lexer": "ipython3",
   "version": "3.8.5"
  }
 },
 "nbformat": 4,
 "nbformat_minor": 4
}
